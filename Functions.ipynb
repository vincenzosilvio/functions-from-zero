{
  "nbformat": 4,
  "nbformat_minor": 0,
  "metadata": {
    "colab": {
      "provenance": [],
      "authorship_tag": "ABX9TyMEGoWNvpQkNWfB/F8fRkJD",
      "include_colab_link": true
    },
    "kernelspec": {
      "name": "python3",
      "display_name": "Python 3"
    },
    "language_info": {
      "name": "python"
    }
  },
  "cells": [
    {
      "cell_type": "markdown",
      "metadata": {
        "id": "view-in-github",
        "colab_type": "text"
      },
      "source": [
        "<a href=\"https://colab.research.google.com/github/vincenzosilvio/functions-from-zero/blob/main/Functions.ipynb\" target=\"_parent\"><img src=\"https://colab.research.google.com/assets/colab-badge.svg\" alt=\"Open In Colab\"/></a>"
      ]
    },
    {
      "cell_type": "markdown",
      "source": [
        "### Styles of Functions"
      ],
      "metadata": {
        "id": "PyD4lfjgXqqw"
      }
    },
    {
      "cell_type": "code",
      "execution_count": 1,
      "metadata": {
        "id": "PPEwzoReXQfg"
      },
      "outputs": [],
      "source": [
        "def simple():pass"
      ]
    },
    {
      "cell_type": "code",
      "source": [
        "def simple2():\n",
        "    print(\"Simple\")"
      ],
      "metadata": {
        "id": "B1EhwGZ1ZBo4"
      },
      "execution_count": 2,
      "outputs": []
    },
    {
      "cell_type": "code",
      "source": [
        "simple2()"
      ],
      "metadata": {
        "id": "_GGZ88qgZEP9",
        "outputId": "951d846e-cd82-4203-e86d-82373262c7c9",
        "colab": {
          "base_uri": "https://localhost:8080/"
        }
      },
      "execution_count": 3,
      "outputs": [
        {
          "output_type": "stream",
          "name": "stdout",
          "text": [
            "Simple\n"
          ]
        }
      ]
    },
    {
      "cell_type": "markdown",
      "source": [
        "### Most useful function"
      ],
      "metadata": {
        "id": "kk0kYqUbZRxo"
      }
    },
    {
      "cell_type": "code",
      "source": [
        "def my_worker(fruit):\n",
        "    statement = f\"My favorite meal is chicken and {fruit}\"\n",
        "    meals = {\"dinner\":statement}\n",
        "    return meals"
      ],
      "metadata": {
        "id": "pJxv4JHnZH0v"
      },
      "execution_count": 18,
      "outputs": []
    },
    {
      "cell_type": "code",
      "source": [
        "meal = my_worker(\"apple\")"
      ],
      "metadata": {
        "id": "OFvxXaT3Ze06"
      },
      "execution_count": 19,
      "outputs": []
    },
    {
      "cell_type": "code",
      "source": [
        "type(meal)"
      ],
      "metadata": {
        "id": "P6e-rYLAZgle",
        "outputId": "c9364a8d-6939-42e8-ed7a-436696b4cab8",
        "colab": {
          "base_uri": "https://localhost:8080/"
        }
      },
      "execution_count": 20,
      "outputs": [
        {
          "output_type": "execute_result",
          "data": {
            "text/plain": [
              "dict"
            ]
          },
          "metadata": {},
          "execution_count": 20
        }
      ]
    },
    {
      "cell_type": "code",
      "source": [
        "meal.keys()"
      ],
      "metadata": {
        "id": "jCJrBfidZ6Zx",
        "outputId": "f098db83-6bf9-4272-a95f-5f1bad31319b",
        "colab": {
          "base_uri": "https://localhost:8080/"
        }
      },
      "execution_count": 21,
      "outputs": [
        {
          "output_type": "execute_result",
          "data": {
            "text/plain": [
              "dict_keys(['dinner'])"
            ]
          },
          "metadata": {},
          "execution_count": 21
        }
      ]
    },
    {
      "cell_type": "code",
      "source": [
        "meal"
      ],
      "metadata": {
        "id": "enyoFUZGZ742",
        "outputId": "439cd916-8060-4759-8780-25b33d7764d9",
        "colab": {
          "base_uri": "https://localhost:8080/"
        }
      },
      "execution_count": 22,
      "outputs": [
        {
          "output_type": "execute_result",
          "data": {
            "text/plain": [
              "{'dinner': 'My favorite meal is chicken and apple'}"
            ]
          },
          "metadata": {},
          "execution_count": 22
        }
      ]
    },
    {
      "cell_type": "code",
      "source": [
        "def human(food):\n",
        "    consume = food[\"dinner\"]\n",
        "    return consume"
      ],
      "metadata": {
        "id": "KWDdD52maA1i"
      },
      "execution_count": 23,
      "outputs": []
    },
    {
      "cell_type": "code",
      "source": [
        "my_meal = human(meal)\n",
        "print(f\"I want my meal.  It'll be: {my_meal}\")"
      ],
      "metadata": {
        "id": "KzG7pl5zaKUA",
        "outputId": "65af7f9e-8d88-4a6a-f709-eb97ab2a4262",
        "colab": {
          "base_uri": "https://localhost:8080/"
        }
      },
      "execution_count": 25,
      "outputs": [
        {
          "output_type": "stream",
          "name": "stdout",
          "text": [
            "I want my meal.  It'll be: My favorite meal is chicken and apple\n"
          ]
        }
      ]
    },
    {
      "cell_type": "code",
      "source": [],
      "metadata": {
        "id": "xZENEFc5aSFw"
      },
      "execution_count": null,
      "outputs": []
    }
  ]
}